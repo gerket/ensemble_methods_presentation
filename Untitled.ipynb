{
 "cells": [
  {
   "cell_type": "code",
   "execution_count": 4,
   "metadata": {},
   "outputs": [],
   "source": [
    "def weird(S):\n",
    "    alnum = False\n",
    "    alpha = False\n",
    "    digit = False\n",
    "    lower = False\n",
    "    upper = False\n",
    "    \n",
    "    \n",
    "    if S.isalpha():\n",
    "        alpha = True\n",
    "    elif S.isdigit():\n",
    "        digit = True\n",
    "    elif S.isalnum():\n",
    "        alnum = True\n",
    "        alpha = True\n",
    "        digit = True\n",
    "        \n",
    "    if alnum or alpha:\n",
    "        if S.islower():\n",
    "            lower = True\n",
    "        elif S.isupper():\n",
    "            upper = True\n",
    "        else:\n",
    "            lower = True\n",
    "            upper = True\n",
    "    \n",
    "    for i in [alnum, alpha, digit, lower, upper]:\n",
    "        print(i)"
   ]
  },
  {
   "cell_type": "code",
   "execution_count": 5,
   "metadata": {},
   "outputs": [
    {
     "name": "stdout",
     "output_type": "stream",
     "text": [
      "True\n",
      "True\n",
      "True\n",
      "True\n",
      "True\n"
     ]
    }
   ],
   "source": [
    "weird(\"qA2\")"
   ]
  },
  {
   "cell_type": "code",
   "execution_count": 6,
   "metadata": {},
   "outputs": [
    {
     "name": "stdout",
     "output_type": "stream",
     "text": [
      "False\n",
      "False\n",
      "True\n",
      "False\n",
      "False\n"
     ]
    }
   ],
   "source": [
    "weird(\"23\")"
   ]
  },
  {
   "cell_type": "code",
   "execution_count": null,
   "metadata": {},
   "outputs": [],
   "source": []
  }
 ],
 "metadata": {
  "kernelspec": {
   "display_name": "Python 3",
   "language": "python",
   "name": "python3"
  },
  "language_info": {
   "codemirror_mode": {
    "name": "ipython",
    "version": 3
   },
   "file_extension": ".py",
   "mimetype": "text/x-python",
   "name": "python",
   "nbconvert_exporter": "python",
   "pygments_lexer": "ipython3",
   "version": "3.6.5"
  }
 },
 "nbformat": 4,
 "nbformat_minor": 2
}
